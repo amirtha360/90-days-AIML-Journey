{
 "cells": [
  {
   "cell_type": "markdown",
   "id": "7b4f9e8a-0ae5-4a93-9f24-d08862b87030",
   "metadata": {},
   "source": [
    "# 📘 AI/ML: Introduction to Python Libraries\n",
    "\n",
    "---\n",
    "\n",
    "## 1️⃣ NumPy (`numpy`)\n",
    "\n",
    "### 🔷 What is NumPy?\n",
    "NumPy (Numerical Python) is a fundamental library for scientific computing in Python. It provides support for:\n",
    "\n",
    "- Multidimensional arrays (`ndarray`)\n",
    "- Mathematical functions (e.g., mean, sin, dot)\n",
    "- Linear algebra and matrix operations\n",
    "\n",
    "\n",
    "\n",
    "\n",
    "## 2️⃣ Pandas (`pandas`)\n",
    "\n",
    "### 🔷 What is Pandas?\n",
    "\n",
    "Pandas is a powerful library for data manipulation and analysis. It introduces two main data structures:\n",
    "\n",
    "`Series`: One-dimensional labeled array\n",
    "\n",
    "`DataFrame`: Two-dimensional labeled data (like a table)\n",
    "\n",
    "\n",
    "## 3️⃣ Matplotlib (`matplotlib.pyplot`)\n",
    "\n",
    "### 🔷 What is Matplotlib?\n",
    "\n",
    "Matplotlib is a plotting library for creating static, animated, and interactive visualizations in Python.\n",
    "\n",
    "Used for line graphs, bar charts, scatter plots, etc.\n",
    "\n",
    "Highly customizable, but can be verbose\n",
    "\n",
    "## 4️⃣ Seaborn (seaborn)\n",
    "\n",
    "### 🔷 What is Seaborn?\n",
    "\n",
    "Seaborn is a data visualization library built on top of Matplotlib.\n",
    "\n",
    "Easier syntax\n",
    "\n",
    "Supports statistical plots\n",
    "\n",
    "Integrates well with pandas DataFrames\n",
    "\n",
    "\n"
   ]
  },
  {
   "cell_type": "code",
   "execution_count": 2,
   "id": "ddccc4be-37b4-47f6-8a5a-fccf545fb6ac",
   "metadata": {},
   "outputs": [],
   "source": [
    "import pandas as pd\n",
    "import numpy as np\n",
    "import matplotlib.pyplot as plt\n",
    "import seaborn as sns"
   ]
  },
  {
   "cell_type": "markdown",
   "id": "c1d83a9d-04cb-46aa-a01c-424a224f0312",
   "metadata": {},
   "source": [
    "\n",
    "## 🔸 1. NumPy: np.array()\n",
    "\n",
    "🧠 What it does: Converts a list (or other sequence) into a NumPy array.\n",
    "\n",
    "### 📌 Basic syntax\n",
    "array = np.array(object, dtype=None)\n",
    "🔹 Parameters:\n",
    "`object`: List, tuple, or another array-like structure (e.g., [1, 2, 3], [[1, 2], [3, 4]])\n",
    "\n",
    "`dtype`: (optional) Data type of the array elements (e.g., int, float, str, etc.)\n",
    "\n",
    "**🤔 Why it’s used:**  NumPy arrays are faster and use less memory than Python lists for numerical computations."
   ]
  },
  {
   "cell_type": "code",
   "execution_count": 17,
   "id": "910e4c32-fdbb-4f08-82b2-0ade87a89c62",
   "metadata": {},
   "outputs": [
    {
     "name": "stdout",
     "output_type": "stream",
     "text": [
      "[  1   2   3   8   4  90 478 367]\n"
     ]
    }
   ],
   "source": [
    "a=np.array([1,2,3,8,4,90,478,367])\n",
    "print(a)"
   ]
  },
  {
   "cell_type": "code",
   "execution_count": 15,
   "id": "d820fc4c-6b55-4cb0-88d4-43881b6b1505",
   "metadata": {},
   "outputs": [
    {
     "name": "stdout",
     "output_type": "stream",
     "text": [
      "[ 10   3 490  78]\n",
      "[[2 4 9]\n",
      " [6 8 1]]\n"
     ]
    }
   ],
   "source": [
    "list1=[10,3,490,78]\n",
    "list2=[[2,4,9],[6,8,1]]\n",
    "print(np.array(list1))\n",
    "print(np.array(list2))"
   ]
  },
  {
   "cell_type": "markdown",
   "id": "64ce8584-ed71-491e-a17a-7b60c4962786",
   "metadata": {},
   "source": [
    "## 🔸2. Pandas: pd.DataFrame()\n",
    "### Basic syntax\n",
    "df = pd.DataFrame(data, index=None, columns=None, dtype=None)\n",
    "🔹 Parameters:\n",
    "data: Structured data like a list of lists, dictionaries, NumPy arrays, or a Series.\n",
    "\n",
    "index: (optional) Row labels.\n",
    "\n",
    "columns: (optional) Column labels.\n",
    "\n",
    "dtype: (optional) Data type for all columns.\n",
    "\n",
    "\n",
    "\n",
    "\n",
    "\n",
    "\n",
    "\n",
    "\n",
    "\n",
    "\n",
    "\n"
   ]
  },
  {
   "cell_type": "code",
   "execution_count": 20,
   "id": "a44910b0-b4e6-477b-b227-bdd9af1a8211",
   "metadata": {},
   "outputs": [
    {
     "name": "stdout",
     "output_type": "stream",
     "text": [
      "df1\n",
      "   name  marks\n",
      "0    A    100\n",
      "1    B     90\n",
      "2    C     96\n",
      "df2\n",
      "    ID   Name\n",
      "0   1  Alice\n",
      "1   2    Bob\n",
      "df3\n",
      "    A  B\n",
      "0  1  2\n",
      "1  3  4\n"
     ]
    }
   ],
   "source": [
    "# example 1 :From a dictionary:\n",
    "\n",
    "data={'name':['A','B','C'],'marks':[100,90,96]}\n",
    "df1=pd.DataFrame(data)\n",
    "print(\"df1\\n\",df1)\n",
    "\n",
    "# Example 2: From a List of Lists\n",
    "\n",
    "data = [[1, 'Alice'], [2, 'Bob']]\n",
    "df2 = pd.DataFrame(data, columns=['ID', 'Name'])\n",
    "print(\"df2\\n\",df2)\n",
    "\n",
    "# Example 3: From a NumPy Array\n",
    "\n",
    "\n",
    "arr = np.array([[1, 2], [3, 4]])\n",
    "df3 = pd.DataFrame(arr, columns=['A', 'B'])\n",
    "print(\"df3\\n\",df3)"
   ]
  },
  {
   "cell_type": "markdown",
   "id": "1cb9ed91-1494-4a2b-b653-ab2b645dd148",
   "metadata": {},
   "source": [
    "## 🔸 3. Seaborn: sns.get_dataset_names()\n",
    "\n",
    "🧠 What it does: Lists built-in datasets you can use for practice.\n",
    "\n",
    "### 📌 Syntax:\n",
    "\n",
    "import seaborn as sns\n",
    "print(sns.get_dataset_names())\n",
    "\n",
    "**🤔 Why it’s used:** Helps find free datasets for learning without downloading anything."
   ]
  },
  {
   "cell_type": "code",
   "execution_count": 8,
   "id": "d9141c09-23aa-4a84-92e5-592d4a841b59",
   "metadata": {},
   "outputs": [
    {
     "name": "stdout",
     "output_type": "stream",
     "text": [
      "['anagrams', 'anscombe', 'attention', 'brain_networks', 'car_crashes', 'diamonds', 'dots', 'dowjones', 'exercise', 'flights', 'fmri', 'geyser', 'glue', 'healthexp', 'iris', 'mpg', 'penguins', 'planets', 'seaice', 'taxis', 'tips', 'titanic']\n"
     ]
    }
   ],
   "source": [
    "print(sns.get_dataset_names())"
   ]
  },
  {
   "cell_type": "markdown",
   "id": "d72c29fc-3416-42c3-b590-febb5fcf86a5",
   "metadata": {},
   "source": [
    "## 🔸 4. Matplotlib: plt.plot() (basic line plot, not histogram!)\n",
    "\n",
    "**🧠 What it does:** Plots a basic line chart.\n",
    "\n",
    "### 📊 Matplotlib Plotting Syntax:\n",
    "\n",
    "import matplotlib.pyplot as plt\n",
    "x = [1, 2, 3]\n",
    "y = [4, 5, 6]\n",
    "plt.plot(x, y)\n",
    "plt.show()\n",
    "\n",
    "**🤔 Why it’s used:** It’s the simplest way to visualize data before using complex charts.\n",
    "---\n",
    "### 🔹 Common Parameters in `plt.plot()`\n",
    "\n",
    "plt.plot(x, y, color='blue', marker='o', linestyle='--', label='Line 1')\n",
    "\n",
    "\n",
    "- `color`: Line color (e.g., `'red'`, `'green'`, `'#FF5733'`)\n",
    "- `marker`: Point style (e.g., `'o'`, `'s'`, `'^'`)\n",
    "- `linestyle`: `'solid'`, `'dashed'`, `'dotted'`, `'--'`, etc.\n",
    "- `label`: Legend label\n",
    "\n",
    "---\n",
    "\n",
    "### ✅ Add Labels and Title\n",
    "\n",
    "```python\n",
    "plt.plot(x, y)\n",
    "plt.title('Simple Line Plot')\n",
    "plt.xlabel('X-axis')\n",
    "plt.ylabel('Y-axis')\n",
    "plt.legend()\n",
    "plt.show()\n",
    "```\n"
   ]
  },
  {
   "cell_type": "code",
   "execution_count": 12,
   "id": "c8a2a8d7-7eb5-46a8-9b79-cd6ebe1fd6b3",
   "metadata": {},
   "outputs": [
    {
     "data": {
      "image/png": "[encoded data removed]",
      "text/plain": [
       "<Figure size 640x480 with 1 Axes>"
      ]
     },
     "metadata": {},
     "output_type": "display_data"
    }
   ],
   "source": [
    "x=[1,2,3,4,5]\n",
    "y=[4,5,6,9,0]\n",
    "# ✅ Basic Line Plot\n",
    "plt.plot(x,y)\n",
    "plt.show()"
   ]
  },
  {
   "cell_type": "code",
   "execution_count": null,
   "id": "b5860b0e-b862-45a1-b888-5a10c3515177",
   "metadata": {},
   "outputs": [],
   "source": []
  }
 ],
 "metadata": {
  "kernelspec": {
   "display_name": "Python 3 (ipykernel)",
   "language": "python",
   "name": "python3"
  },
  "language_info": {
   "codemirror_mode": {
    "name": "ipython",
    "version": 3
   },
   "file_extension": ".py",
   "mimetype": "text/x-python",
   "name": "python",
   "nbconvert_exporter": "python",
   "pygments_lexer": "ipython3",
   "version": "3.12.6"
  }
 },
 "nbformat": 4,
 "nbformat_minor": 5
}
